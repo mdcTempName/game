{
  "nbformat": 4,
  "nbformat_minor": 0,
  "metadata": {
    "colab": {
      "provenance": []
    },
    "kernelspec": {
      "name": "python3",
      "display_name": "Python 3"
    },
    "language_info": {
      "name": "python"
    }
  },
  "cells": [
    {
      "cell_type": "code",
      "execution_count": 1,
      "metadata": {
        "colab": {
          "base_uri": "https://localhost:8080/"
        },
        "id": "sP5xcVckO8my",
        "outputId": "eb203427-6f23-4580-858b-62ba8eb83316"
      },
      "outputs": [
        {
          "output_type": "stream",
          "name": "stdout",
          "text": [
            "['pawn', 'king']\n",
            "{'level': 10, 'stats': {'power': 1, 'speed': 2}}\n"
          ]
        }
      ],
      "source": [
        "import json\n",
        "\n",
        "with open(\"data.json\") as f:\n",
        "  d = json.load(f)\n",
        "\n",
        "# instead of pawn or king you could set unique IDs for each enemy / player\n",
        "characters = [character_name for character_name in d]\n",
        "print(characters)\n",
        "\n",
        "print(d[characters[0]])"
      ]
    },
    {
      "cell_type": "code",
      "source": [
        "print(\"level: \", d[characters[0]][\"level\"])\n",
        "print(\"stats:\", d[characters[0]][\"stats\"])\n",
        "print(\"power: \", d[characters[0]][\"stats\"][\"power\"])"
      ],
      "metadata": {
        "colab": {
          "base_uri": "https://localhost:8080/"
        },
        "id": "dw6_PzLFQX8Z",
        "outputId": "0132e080-9883-48ff-cc21-5a60a106ce52"
      },
      "execution_count": 2,
      "outputs": [
        {
          "output_type": "stream",
          "name": "stdout",
          "text": [
            "level:  10\n",
            "stats: {'power': 1, 'speed': 2}\n",
            "power:  1\n"
          ]
        }
      ]
    },
    {
      "cell_type": "code",
      "source": [],
      "metadata": {
        "id": "6D2tNdO2RE7q"
      },
      "execution_count": 2,
      "outputs": []
    }
  ]
}